{
 "cells": [
  {
   "cell_type": "markdown",
   "id": "d8465660-7aaf-4264-91b0-a9e9b0fdea9e",
   "metadata": {},
   "source": [
    "[maths is cool](maths.md)"
   ]
  },
  {
   "cell_type": "code",
   "execution_count": null,
   "id": "b5de30a7-7bd1-4263-a1bf-89abc49c50de",
   "metadata": {},
   "outputs": [],
   "source": []
  }
 ],
 "metadata": {
  "kernelspec": {
   "display_name": "Python 3 (ipykernel)",
   "language": "python",
   "name": "python3"
  },
  "language_info": {
   "codemirror_mode": {
    "name": "ipython",
    "version": 3
   },
   "file_extension": ".py",
   "mimetype": "text/x-python",
   "name": "python",
   "nbconvert_exporter": "python",
   "pygments_lexer": "ipython3",
   "version": "3.9.6"
  }
 },
 "nbformat": 4,
 "nbformat_minor": 5
}
